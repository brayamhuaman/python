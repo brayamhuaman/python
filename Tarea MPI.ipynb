{
  "nbformat": 4,
  "nbformat_minor": 0,
  "metadata": {
    "colab": {
      "provenance": [],
      "collapsed_sections": []
    },
    "kernelspec": {
      "name": "python3",
      "display_name": "Python 3"
    },
    "language_info": {
      "name": "python"
    }
  },
  "cells": [
    {
      "cell_type": "markdown",
      "source": [
        "Tarea MPI"
      ],
      "metadata": {
        "id": "j1Q-h8DjmPdU"
      }
    },
    {
      "cell_type": "code",
      "execution_count": 1,
      "metadata": {
        "id": "UxAu5dr1BvHZ"
      },
      "outputs": [],
      "source": [
        "%%sh\n",
        "cat > sad.c << EOF\n",
        "\n",
        "#include<mpi.h>\n",
        "#include<stdio.h>\n",
        "\n",
        "int main(int arg, char** argv) {\n",
        "\n",
        "  MPI_Init(NULL, NULL);\n",
        "\n",
        "  int world_size;\n",
        "  MPI_Comm_size(MPI_COMM_WORLD, &world_size);\n",
        "\n",
        "  int world_rank;\n",
        "  MPI_Comm_rank(MPI_COMM_WORLD, &world_rank);\n",
        "\n",
        "  printf(\"Hello world from processor who has rank: %d \\n\",world_rank);\n",
        "\n",
        "  MPI_Finalize();\n",
        "}"
      ]
    },
    {
      "cell_type": "code",
      "source": [
        "!ls"
      ],
      "metadata": {
        "colab": {
          "base_uri": "https://localhost:8080/"
        },
        "id": "itYdujXtLSNW",
        "outputId": "58fc416e-0a28-466b-bebb-822b821450d1"
      },
      "execution_count": 2,
      "outputs": [
        {
          "output_type": "stream",
          "name": "stdout",
          "text": [
            "sad.c  sample_data\n"
          ]
        }
      ]
    },
    {
      "cell_type": "code",
      "source": [
        "!mpicc sad.c -o sad.exe"
      ],
      "metadata": {
        "id": "13MAuLJWLT7U"
      },
      "execution_count": 3,
      "outputs": []
    },
    {
      "cell_type": "code",
      "source": [
        "!mpirun -n 11 -allow-run-as-root sad.exe"
      ],
      "metadata": {
        "colab": {
          "base_uri": "https://localhost:8080/"
        },
        "id": "d0XhoTQoLcZH",
        "outputId": "9e8a7c2a-9acc-4271-a8ef-253ace3fc5d8"
      },
      "execution_count": 4,
      "outputs": [
        {
          "output_type": "stream",
          "name": "stdout",
          "text": [
            "Hello world from processor who has rank: 6 \n",
            "Hello world from processor who has rank: 7 \n",
            "Hello world from processor who has rank: 1 \n",
            "Hello world from processor who has rank: 10 \n",
            "Hello world from processor who has rank: 2 \n",
            "Hello world from processor who has rank: 0 \n",
            "Hello world from processor who has rank: 5 \n",
            "Hello world from processor who has rank: 8 \n",
            "Hello world from processor who has rank: 4 \n",
            "Hello world from processor who has rank: 3 \n",
            "Hello world from processor who has rank: 9 \n"
          ]
        }
      ]
    },
    {
      "cell_type": "code",
      "source": [
        "%%sh\n",
        "cat > bad.c << EOF\n",
        "\n",
        "#include<mpi.h>\n",
        "#include<stdio.h>\n",
        "#include<string.h>\n",
        "\n",
        "int main(int argc, char** argv){\n",
        "\n",
        "  MPI_Init(NULL, NULL);\n",
        "\n",
        "  char msg[100];\n",
        "  int nbrProcessus = 0, rang, i=0;\n",
        "  MPI_Comm_size(MPI_COMM_WORLD, &nbrProcessus);\n",
        "  MPI_Comm_rank(MPI_COMM_WORLD, &rang);\n",
        "\n",
        "  //Si Root ..\n",
        "  if ( rang == 0) {\n",
        "    strcpy(msg, \"Message\");\n",
        "    for (i=0; i<nbrProcessus;i++){\n",
        "      if (i !=0){\n",
        "        MPI_Send(msg, 5, MPI_CHAR, i, 0, MPI_COMM_WORLD);\n",
        "      }\n",
        "    }\n",
        "  }\n",
        "  else  {\n",
        "    MPI_Recv(msg, 5, MPI_CHAR, 0, 0, MPI_COMM_WORLD, MPI_STATUS_IGNORE);\n",
        "    printf(\"Processus %d >: Recuperacion de message [ %s] \\n\", rang, msg);\n",
        "  }\n",
        "  MPI_Finalize();\n",
        "  return 0;\n",
        " }\n"
      ],
      "metadata": {
        "id": "lkv-bTUl5Sjd"
      },
      "execution_count": 5,
      "outputs": []
    },
    {
      "cell_type": "code",
      "source": [
        "!ls"
      ],
      "metadata": {
        "colab": {
          "base_uri": "https://localhost:8080/"
        },
        "id": "egzm0hfT0--j",
        "outputId": "014fdeba-3549-4127-fb3f-2a4629fabe1c"
      },
      "execution_count": 6,
      "outputs": [
        {
          "output_type": "stream",
          "name": "stdout",
          "text": [
            "bad.c  sad.c  sad.exe  sample_data\n"
          ]
        }
      ]
    },
    {
      "cell_type": "code",
      "source": [
        "!mpicc bad.c -o bad.exe"
      ],
      "metadata": {
        "id": "KnCUwczj1deL"
      },
      "execution_count": 7,
      "outputs": []
    },
    {
      "cell_type": "code",
      "source": [
        "!mpirun -n 5 -allow-run-as-root bad.exe"
      ],
      "metadata": {
        "colab": {
          "base_uri": "https://localhost:8080/"
        },
        "id": "ZJ_Oruny29rm",
        "outputId": "05a7f59c-a9de-40a3-8594-2c223dd9abc6"
      },
      "execution_count": 8,
      "outputs": [
        {
          "output_type": "stream",
          "name": "stdout",
          "text": [
            "Processus 1 >: Recuperacion de message [ Messa] \n",
            "Processus 4 >: Recuperacion de message [ Messa] \n",
            "Processus 3 >: Recuperacion de message [ Messa] \n",
            "Processus 2 >: Recuperacion de message [ Messa] \n"
          ]
        }
      ]
    },
    {
      "cell_type": "code",
      "source": [
        "%%sh\n",
        "cat > mad.c << EOF\n",
        "\n",
        "#include<mpi.h>\n",
        "#include<stdio.h>\n",
        "#include<string.h>\n",
        "\n",
        "int main(int argc, char** argv){\n",
        "\n",
        "  MPI_Init(NULL, NULL);\n",
        "\n",
        "  char msg[20];\n",
        "  int nbrProcessus = 0, rang;\n",
        "  MPI_Comm_size(MPI_COMM_WORLD, &nbrProcessus);\n",
        "  MPI_Comm_size(MPI_COMM_WORLD, &rang);\n",
        "  \n",
        "  if ( rang == 0)\n",
        "  strcpy(msg, \"Message\");\n",
        "\n",
        "  MPI_Bcast(msg, 7, MPI_CHAR, 0, MPI_COMM_WORLD);\n",
        "  if(rang !=0)\n",
        "    printf(\"Processus %d >: Recuperation de message [ %.7s ]\\n\", rang, msg);\n",
        "    \n",
        "  MPI_Finalize();\n",
        "  return 0;\n",
        "}"
      ],
      "metadata": {
        "id": "oELls47pJp0B"
      },
      "execution_count": 9,
      "outputs": []
    },
    {
      "cell_type": "code",
      "source": [
        "!ls"
      ],
      "metadata": {
        "colab": {
          "base_uri": "https://localhost:8080/"
        },
        "id": "lT65XAZkUSMN",
        "outputId": "d4fa2481-d9c4-46a8-bdec-bd1a56d5c18c"
      },
      "execution_count": 10,
      "outputs": [
        {
          "output_type": "stream",
          "name": "stdout",
          "text": [
            "bad.c  bad.exe\tmad.c  sad.c  sad.exe  sample_data\n"
          ]
        }
      ]
    },
    {
      "cell_type": "code",
      "source": [
        "!mpicc mad.c -o mad.exe"
      ],
      "metadata": {
        "id": "WGOKWI2nUUAD"
      },
      "execution_count": 11,
      "outputs": []
    },
    {
      "cell_type": "code",
      "source": [
        "!mpirun -n 7 -allow-run-as-root mad.exe"
      ],
      "metadata": {
        "colab": {
          "base_uri": "https://localhost:8080/"
        },
        "id": "8PQcGip9Uq3h",
        "outputId": "24e357e1-ffb9-447d-940d-3b3e13737b84"
      },
      "execution_count": 12,
      "outputs": [
        {
          "output_type": "stream",
          "name": "stdout",
          "text": [
            "Processus 7 >: Recuperation de message [  \n",
            "Processus 7 >: Recuperation de message [  \n",
            "@��U ]\n",
            "@��U ]\n",
            "Processus 7 >: Recuperation de message [  \n",
            "Processus 7 >: Recuperation de message [  \n",
            "@��U ]\n",
            "@��U ]\n",
            "Processus 7 >: Recuperation de message [  \n",
            "@��U ]\n",
            "Processus 7 >: Recuperation de message [  \n",
            "@��U ]\n",
            "Processus 7 >: Recuperation de message [  \n",
            "@��U ]\n"
          ]
        }
      ]
    }
  ]
}